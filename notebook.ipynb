{
 "cells": [
  {
   "cell_type": "markdown",
   "metadata": {},
   "source": [
    "## Cleaning Data"
   ]
  },
  {
   "cell_type": "code",
   "execution_count": 1,
   "metadata": {},
   "outputs": [],
   "source": [
    "#importing required libaries\n",
    "import streamlit as st\n",
    "import pandas as pd\n",
    "import altair as alt\n",
    "import numpy as np\n",
    "import matplotlib.pyplot as plt"
   ]
  },
  {
   "cell_type": "code",
   "execution_count": 2,
   "metadata": {},
   "outputs": [],
   "source": [
    "#getting dataset\n",
    "def get_data():\n",
    "    url = './dataset/africa_food_prices.csv'\n",
    "    df = pd.read_csv(url)\n",
    "    return df\n",
    "df = get_data()"
   ]
  },
  {
   "cell_type": "code",
   "execution_count": 3,
   "metadata": {},
   "outputs": [
    {
     "data": {
      "text/plain": [
       "(956779, 19)"
      ]
     },
     "execution_count": 3,
     "metadata": {},
     "output_type": "execute_result"
    }
   ],
   "source": [
    "# data structure\n",
    "df.shape"
   ]
  },
  {
   "cell_type": "code",
   "execution_count": 4,
   "metadata": {},
   "outputs": [
    {
     "name": "stdout",
     "output_type": "stream",
     "text": [
      "<class 'pandas.core.frame.DataFrame'>\n",
      "RangeIndex: 956779 entries, 0 to 956778\n",
      "Data columns (total 19 columns):\n",
      " #   Column              Non-Null Count   Dtype  \n",
      "---  ------              --------------   -----  \n",
      " 0   Unnamed: 0          956779 non-null  int64  \n",
      " 1   country_id          956779 non-null  float64\n",
      " 2   country             956779 non-null  object \n",
      " 3   state_id            956779 non-null  int64  \n",
      " 4   state               830101 non-null  object \n",
      " 5   market_id           956779 non-null  int64  \n",
      " 6   market              956779 non-null  object \n",
      " 7   produce_id          956779 non-null  int64  \n",
      " 8   produce             956779 non-null  object \n",
      " 9   currency_id         956779 non-null  float64\n",
      " 10  currency            956779 non-null  object \n",
      " 11  pt_id               956779 non-null  int64  \n",
      " 12  market_type         956779 non-null  object \n",
      " 13  um_unit_id          956779 non-null  int64  \n",
      " 14  quantity            956779 non-null  object \n",
      " 15  month               956779 non-null  int64  \n",
      " 16  year                956779 non-null  int64  \n",
      " 17  price               956779 non-null  float64\n",
      " 18  mp_commoditysource  0 non-null       float64\n",
      "dtypes: float64(4), int64(8), object(7)\n",
      "memory usage: 138.7+ MB\n"
     ]
    }
   ],
   "source": [
    "# data information and datatype\n",
    "df.info()"
   ]
  },
  {
   "cell_type": "code",
   "execution_count": 5,
   "metadata": {},
   "outputs": [
    {
     "data": {
      "text/html": [
       "<div>\n",
       "<style scoped>\n",
       "    .dataframe tbody tr th:only-of-type {\n",
       "        vertical-align: middle;\n",
       "    }\n",
       "\n",
       "    .dataframe tbody tr th {\n",
       "        vertical-align: top;\n",
       "    }\n",
       "\n",
       "    .dataframe thead th {\n",
       "        text-align: right;\n",
       "    }\n",
       "</style>\n",
       "<table border=\"1\" class=\"dataframe\">\n",
       "  <thead>\n",
       "    <tr style=\"text-align: right;\">\n",
       "      <th></th>\n",
       "      <th>Unnamed: 0</th>\n",
       "      <th>country_id</th>\n",
       "      <th>state_id</th>\n",
       "      <th>market_id</th>\n",
       "      <th>produce_id</th>\n",
       "      <th>currency_id</th>\n",
       "      <th>pt_id</th>\n",
       "      <th>um_unit_id</th>\n",
       "      <th>month</th>\n",
       "      <th>year</th>\n",
       "      <th>price</th>\n",
       "      <th>mp_commoditysource</th>\n",
       "    </tr>\n",
       "  </thead>\n",
       "  <tbody>\n",
       "    <tr>\n",
       "      <th>count</th>\n",
       "      <td>9.567790e+05</td>\n",
       "      <td>956779.000000</td>\n",
       "      <td>956779.000000</td>\n",
       "      <td>956779.000000</td>\n",
       "      <td>956779.000000</td>\n",
       "      <td>956779.0</td>\n",
       "      <td>956779.000000</td>\n",
       "      <td>956779.000000</td>\n",
       "      <td>956779.000000</td>\n",
       "      <td>956779.000000</td>\n",
       "      <td>9.567790e+05</td>\n",
       "      <td>0.0</td>\n",
       "    </tr>\n",
       "    <tr>\n",
       "      <th>mean</th>\n",
       "      <td>1.076345e+06</td>\n",
       "      <td>1961.192782</td>\n",
       "      <td>22287.911831</td>\n",
       "      <td>1392.594222</td>\n",
       "      <td>186.141214</td>\n",
       "      <td>0.0</td>\n",
       "      <td>14.926716</td>\n",
       "      <td>14.017183</td>\n",
       "      <td>6.381471</td>\n",
       "      <td>2015.704015</td>\n",
       "      <td>4.128833e+03</td>\n",
       "      <td>NaN</td>\n",
       "    </tr>\n",
       "    <tr>\n",
       "      <th>std</th>\n",
       "      <td>5.159597e+05</td>\n",
       "      <td>10404.034921</td>\n",
       "      <td>98565.608270</td>\n",
       "      <td>1027.751212</td>\n",
       "      <td>165.401303</td>\n",
       "      <td>0.0</td>\n",
       "      <td>0.263570</td>\n",
       "      <td>24.437728</td>\n",
       "      <td>3.418025</td>\n",
       "      <td>4.603829</td>\n",
       "      <td>1.381840e+05</td>\n",
       "      <td>NaN</td>\n",
       "    </tr>\n",
       "    <tr>\n",
       "      <th>min</th>\n",
       "      <td>1.542700e+04</td>\n",
       "      <td>4.000000</td>\n",
       "      <td>0.000000</td>\n",
       "      <td>101.000000</td>\n",
       "      <td>50.000000</td>\n",
       "      <td>0.0</td>\n",
       "      <td>14.000000</td>\n",
       "      <td>5.000000</td>\n",
       "      <td>1.000000</td>\n",
       "      <td>1990.000000</td>\n",
       "      <td>0.000000e+00</td>\n",
       "      <td>NaN</td>\n",
       "    </tr>\n",
       "    <tr>\n",
       "      <th>25%</th>\n",
       "      <td>5.939185e+05</td>\n",
       "      <td>90.000000</td>\n",
       "      <td>1836.000000</td>\n",
       "      <td>528.000000</td>\n",
       "      <td>67.000000</td>\n",
       "      <td>0.0</td>\n",
       "      <td>15.000000</td>\n",
       "      <td>5.000000</td>\n",
       "      <td>3.000000</td>\n",
       "      <td>2013.000000</td>\n",
       "      <td>6.500000e+01</td>\n",
       "      <td>NaN</td>\n",
       "    </tr>\n",
       "    <tr>\n",
       "      <th>50%</th>\n",
       "      <td>1.113054e+06</td>\n",
       "      <td>155.000000</td>\n",
       "      <td>2209.000000</td>\n",
       "      <td>1078.000000</td>\n",
       "      <td>105.000000</td>\n",
       "      <td>0.0</td>\n",
       "      <td>15.000000</td>\n",
       "      <td>5.000000</td>\n",
       "      <td>6.000000</td>\n",
       "      <td>2017.000000</td>\n",
       "      <td>2.505714e+02</td>\n",
       "      <td>NaN</td>\n",
       "    </tr>\n",
       "    <tr>\n",
       "      <th>75%</th>\n",
       "      <td>1.513290e+06</td>\n",
       "      <td>205.000000</td>\n",
       "      <td>21971.000000</td>\n",
       "      <td>2281.000000</td>\n",
       "      <td>262.000000</td>\n",
       "      <td>0.0</td>\n",
       "      <td>15.000000</td>\n",
       "      <td>9.000000</td>\n",
       "      <td>9.000000</td>\n",
       "      <td>2020.000000</td>\n",
       "      <td>7.221005e+02</td>\n",
       "      <td>NaN</td>\n",
       "    </tr>\n",
       "    <tr>\n",
       "      <th>max</th>\n",
       "      <td>2.050637e+06</td>\n",
       "      <td>70001.000000</td>\n",
       "      <td>900003.000000</td>\n",
       "      <td>6081.000000</td>\n",
       "      <td>887.000000</td>\n",
       "      <td>0.0</td>\n",
       "      <td>17.000000</td>\n",
       "      <td>175.000000</td>\n",
       "      <td>12.000000</td>\n",
       "      <td>2021.000000</td>\n",
       "      <td>1.725000e+07</td>\n",
       "      <td>NaN</td>\n",
       "    </tr>\n",
       "  </tbody>\n",
       "</table>\n",
       "</div>"
      ],
      "text/plain": [
       "         Unnamed: 0     country_id       state_id      market_id  \\\n",
       "count  9.567790e+05  956779.000000  956779.000000  956779.000000   \n",
       "mean   1.076345e+06    1961.192782   22287.911831    1392.594222   \n",
       "std    5.159597e+05   10404.034921   98565.608270    1027.751212   \n",
       "min    1.542700e+04       4.000000       0.000000     101.000000   \n",
       "25%    5.939185e+05      90.000000    1836.000000     528.000000   \n",
       "50%    1.113054e+06     155.000000    2209.000000    1078.000000   \n",
       "75%    1.513290e+06     205.000000   21971.000000    2281.000000   \n",
       "max    2.050637e+06   70001.000000  900003.000000    6081.000000   \n",
       "\n",
       "          produce_id  currency_id          pt_id     um_unit_id  \\\n",
       "count  956779.000000     956779.0  956779.000000  956779.000000   \n",
       "mean      186.141214          0.0      14.926716      14.017183   \n",
       "std       165.401303          0.0       0.263570      24.437728   \n",
       "min        50.000000          0.0      14.000000       5.000000   \n",
       "25%        67.000000          0.0      15.000000       5.000000   \n",
       "50%       105.000000          0.0      15.000000       5.000000   \n",
       "75%       262.000000          0.0      15.000000       9.000000   \n",
       "max       887.000000          0.0      17.000000     175.000000   \n",
       "\n",
       "               month           year         price  mp_commoditysource  \n",
       "count  956779.000000  956779.000000  9.567790e+05                 0.0  \n",
       "mean        6.381471    2015.704015  4.128833e+03                 NaN  \n",
       "std         3.418025       4.603829  1.381840e+05                 NaN  \n",
       "min         1.000000    1990.000000  0.000000e+00                 NaN  \n",
       "25%         3.000000    2013.000000  6.500000e+01                 NaN  \n",
       "50%         6.000000    2017.000000  2.505714e+02                 NaN  \n",
       "75%         9.000000    2020.000000  7.221005e+02                 NaN  \n",
       "max        12.000000    2021.000000  1.725000e+07                 NaN  "
      ]
     },
     "execution_count": 5,
     "metadata": {},
     "output_type": "execute_result"
    }
   ],
   "source": [
    "# statistical details of the dataset\n",
    "df.describe()"
   ]
  },
  {
   "cell_type": "code",
   "execution_count": 6,
   "metadata": {},
   "outputs": [],
   "source": [
    "# drop cols we dont need \n",
    "all_cols = ['Unnamed: 0', 'country_id', 'country', 'state_id', 'state', 'market_id',\n",
    "       'market', 'produce_id', 'produce', 'currency_id', 'currency', 'pt_id',\n",
    "       'market_type', 'um_unit_id', 'quantity', 'month', 'year', 'price',\n",
    "       'mp_commoditysource']\n",
    "\n",
    "cols_to_drop = ['Unnamed: 0','mp_commoditysource']\n",
    "\n",
    "df = df.drop(columns=cols_to_drop)"
   ]
  },
  {
   "cell_type": "code",
   "execution_count": 7,
   "metadata": {},
   "outputs": [],
   "source": [
    "# rename the cols \n",
    "new_names = {    \n",
    "    'pt_id':'market_type_id',\n",
    "    'um_unit_id':'measurement_id',\n",
    "    'market':'town',\n",
    "    'market_id':'town_id',\n",
    "    }\n",
    "\n",
    "df = df.rename(columns= new_names)"
   ]
  },
  {
   "cell_type": "markdown",
   "metadata": {},
   "source": [
    "## Pivot Tables"
   ]
  },
  {
   "cell_type": "code",
   "execution_count": 8,
   "metadata": {},
   "outputs": [],
   "source": [
    "# aggregating data using pivot tables \n",
    "table = pd.pivot_table(df, index=[\"country\",\"market_type\",\"year\"],\n",
    "                      values=[\"price\"], aggfunc='mean')"
   ]
  },
  {
   "cell_type": "code",
   "execution_count": 9,
   "metadata": {},
   "outputs": [],
   "source": [
    "table = pd.pivot_table(df, index=[\"state\",\"market_type\",\"year\"],\n",
    "                      values=[\"price\"], aggfunc='sum')"
   ]
  },
  {
   "cell_type": "code",
   "execution_count": 10,
   "metadata": {},
   "outputs": [
    {
     "data": {
      "text/plain": [
       "country_id             0\n",
       "country                0\n",
       "state_id               0\n",
       "state             126678\n",
       "town_id                0\n",
       "town                   0\n",
       "produce_id             0\n",
       "produce                0\n",
       "currency_id            0\n",
       "currency               0\n",
       "market_type_id         0\n",
       "market_type            0\n",
       "measurement_id         0\n",
       "quantity               0\n",
       "month                  0\n",
       "year                   0\n",
       "price                  0\n",
       "dtype: int64"
      ]
     },
     "execution_count": 10,
     "metadata": {},
     "output_type": "execute_result"
    }
   ],
   "source": [
    "#summing all null values\n",
    "df.isnull().sum()"
   ]
  },
  {
   "cell_type": "code",
   "execution_count": 11,
   "metadata": {},
   "outputs": [
    {
     "data": {
      "text/html": [
       "<div>\n",
       "<style scoped>\n",
       "    .dataframe tbody tr th:only-of-type {\n",
       "        vertical-align: middle;\n",
       "    }\n",
       "\n",
       "    .dataframe tbody tr th {\n",
       "        vertical-align: top;\n",
       "    }\n",
       "\n",
       "    .dataframe thead th {\n",
       "        text-align: right;\n",
       "    }\n",
       "</style>\n",
       "<table border=\"1\" class=\"dataframe\">\n",
       "  <thead>\n",
       "    <tr style=\"text-align: right;\">\n",
       "      <th></th>\n",
       "      <th></th>\n",
       "      <th></th>\n",
       "      <th>price</th>\n",
       "    </tr>\n",
       "    <tr>\n",
       "      <th>state</th>\n",
       "      <th>market_type</th>\n",
       "      <th>year</th>\n",
       "      <th></th>\n",
       "    </tr>\n",
       "  </thead>\n",
       "  <tbody>\n",
       "    <tr>\n",
       "      <th rowspan=\"2\" valign=\"top\">Alger</th>\n",
       "      <th rowspan=\"2\" valign=\"top\">Retail</th>\n",
       "      <th>2015</th>\n",
       "      <td>27013.2</td>\n",
       "    </tr>\n",
       "    <tr>\n",
       "      <th>2016</th>\n",
       "      <td>20577.0</td>\n",
       "    </tr>\n",
       "  </tbody>\n",
       "</table>\n",
       "</div>"
      ],
      "text/plain": [
       "                          price\n",
       "state market_type year         \n",
       "Alger Retail      2015  27013.2\n",
       "                  2016  20577.0"
      ]
     },
     "execution_count": 11,
     "metadata": {},
     "output_type": "execute_result"
    }
   ],
   "source": [
    "#filtering within the pivot table \n",
    "table.query(\"state == ['Alger']\") "
   ]
  },
  {
   "cell_type": "code",
   "execution_count": 12,
   "metadata": {},
   "outputs": [],
   "source": [
    "# converting the pivot table back to a DataFrame \n",
    "df2 = table.reset_index()"
   ]
  },
  {
   "cell_type": "code",
   "execution_count": 13,
   "metadata": {},
   "outputs": [
    {
     "data": {
      "text/html": [
       "<div>\n",
       "<style scoped>\n",
       "    .dataframe tbody tr th:only-of-type {\n",
       "        vertical-align: middle;\n",
       "    }\n",
       "\n",
       "    .dataframe tbody tr th {\n",
       "        vertical-align: top;\n",
       "    }\n",
       "\n",
       "    .dataframe thead th {\n",
       "        text-align: right;\n",
       "    }\n",
       "</style>\n",
       "<table border=\"1\" class=\"dataframe\">\n",
       "  <thead>\n",
       "    <tr style=\"text-align: right;\">\n",
       "      <th></th>\n",
       "      <th></th>\n",
       "      <th></th>\n",
       "      <th></th>\n",
       "      <th>price</th>\n",
       "    </tr>\n",
       "    <tr>\n",
       "      <th>state</th>\n",
       "      <th>market_type</th>\n",
       "      <th>produce</th>\n",
       "      <th>year</th>\n",
       "      <th></th>\n",
       "    </tr>\n",
       "  </thead>\n",
       "  <tbody>\n",
       "    <tr>\n",
       "      <th rowspan=\"5\" valign=\"top\">Abia</th>\n",
       "      <th rowspan=\"5\" valign=\"top\">Retail</th>\n",
       "      <th rowspan=\"5\" valign=\"top\">Bread - Retail</th>\n",
       "      <th>2014</th>\n",
       "      <td>239.212500</td>\n",
       "    </tr>\n",
       "    <tr>\n",
       "      <th>2015</th>\n",
       "      <td>247.521458</td>\n",
       "    </tr>\n",
       "    <tr>\n",
       "      <th>2016</th>\n",
       "      <td>182.228000</td>\n",
       "    </tr>\n",
       "    <tr>\n",
       "      <th>2017</th>\n",
       "      <td>150.250000</td>\n",
       "    </tr>\n",
       "    <tr>\n",
       "      <th>2021</th>\n",
       "      <td>100.000000</td>\n",
       "    </tr>\n",
       "    <tr>\n",
       "      <th>...</th>\n",
       "      <th>...</th>\n",
       "      <th>...</th>\n",
       "      <th>...</th>\n",
       "      <td>...</td>\n",
       "    </tr>\n",
       "    <tr>\n",
       "      <th rowspan=\"5\" valign=\"top\">Zou</th>\n",
       "      <th rowspan=\"5\" valign=\"top\">Retail</th>\n",
       "      <th rowspan=\"5\" valign=\"top\">Yam - Retail</th>\n",
       "      <th>2016</th>\n",
       "      <td>250.000000</td>\n",
       "    </tr>\n",
       "    <tr>\n",
       "      <th>2018</th>\n",
       "      <td>279.166667</td>\n",
       "    </tr>\n",
       "    <tr>\n",
       "      <th>2019</th>\n",
       "      <td>234.966665</td>\n",
       "    </tr>\n",
       "    <tr>\n",
       "      <th>2020</th>\n",
       "      <td>228.618794</td>\n",
       "    </tr>\n",
       "    <tr>\n",
       "      <th>2021</th>\n",
       "      <td>287.583333</td>\n",
       "    </tr>\n",
       "  </tbody>\n",
       "</table>\n",
       "<p>35736 rows × 1 columns</p>\n",
       "</div>"
      ],
      "text/plain": [
       "                                            price\n",
       "state market_type produce        year            \n",
       "Abia  Retail      Bread - Retail 2014  239.212500\n",
       "                                 2015  247.521458\n",
       "                                 2016  182.228000\n",
       "                                 2017  150.250000\n",
       "                                 2021  100.000000\n",
       "...                                           ...\n",
       "Zou   Retail      Yam - Retail   2016  250.000000\n",
       "                                 2018  279.166667\n",
       "                                 2019  234.966665\n",
       "                                 2020  228.618794\n",
       "                                 2021  287.583333\n",
       "\n",
       "[35736 rows x 1 columns]"
      ]
     },
     "execution_count": 13,
     "metadata": {},
     "output_type": "execute_result"
    }
   ],
   "source": [
    "#getting the mean using pivot table\n",
    "pvt = pd.pivot_table(df, index=['state','market_type','produce','year'],\n",
    "                    values=['price'], aggfunc='mean')\n",
    "pvt"
   ]
  },
  {
   "cell_type": "code",
   "execution_count": 14,
   "metadata": {},
   "outputs": [],
   "source": [
    "# conert to dataframe\n",
    "pvt_df = pvt.reset_index() "
   ]
  },
  {
   "cell_type": "code",
   "execution_count": 15,
   "metadata": {},
   "outputs": [
    {
     "data": {
      "text/html": [
       "<div>\n",
       "<style scoped>\n",
       "    .dataframe tbody tr th:only-of-type {\n",
       "        vertical-align: middle;\n",
       "    }\n",
       "\n",
       "    .dataframe tbody tr th {\n",
       "        vertical-align: top;\n",
       "    }\n",
       "\n",
       "    .dataframe thead th {\n",
       "        text-align: right;\n",
       "    }\n",
       "</style>\n",
       "<table border=\"1\" class=\"dataframe\">\n",
       "  <thead>\n",
       "    <tr style=\"text-align: right;\">\n",
       "      <th></th>\n",
       "      <th>state</th>\n",
       "      <th>market_type</th>\n",
       "      <th>produce</th>\n",
       "      <th>year</th>\n",
       "      <th>price</th>\n",
       "    </tr>\n",
       "  </thead>\n",
       "  <tbody>\n",
       "    <tr>\n",
       "      <th>0</th>\n",
       "      <td>Abia</td>\n",
       "      <td>Retail</td>\n",
       "      <td>Bread - Retail</td>\n",
       "      <td>2014</td>\n",
       "      <td>239.212500</td>\n",
       "    </tr>\n",
       "    <tr>\n",
       "      <th>1</th>\n",
       "      <td>Abia</td>\n",
       "      <td>Retail</td>\n",
       "      <td>Bread - Retail</td>\n",
       "      <td>2015</td>\n",
       "      <td>247.521458</td>\n",
       "    </tr>\n",
       "    <tr>\n",
       "      <th>2</th>\n",
       "      <td>Abia</td>\n",
       "      <td>Retail</td>\n",
       "      <td>Bread - Retail</td>\n",
       "      <td>2016</td>\n",
       "      <td>182.228000</td>\n",
       "    </tr>\n",
       "    <tr>\n",
       "      <th>3</th>\n",
       "      <td>Abia</td>\n",
       "      <td>Retail</td>\n",
       "      <td>Bread - Retail</td>\n",
       "      <td>2017</td>\n",
       "      <td>150.250000</td>\n",
       "    </tr>\n",
       "    <tr>\n",
       "      <th>4</th>\n",
       "      <td>Abia</td>\n",
       "      <td>Retail</td>\n",
       "      <td>Bread - Retail</td>\n",
       "      <td>2021</td>\n",
       "      <td>100.000000</td>\n",
       "    </tr>\n",
       "    <tr>\n",
       "      <th>...</th>\n",
       "      <td>...</td>\n",
       "      <td>...</td>\n",
       "      <td>...</td>\n",
       "      <td>...</td>\n",
       "      <td>...</td>\n",
       "    </tr>\n",
       "    <tr>\n",
       "      <th>57</th>\n",
       "      <td>Abia</td>\n",
       "      <td>Wholesale</td>\n",
       "      <td>Sorghum (brown) - Wholesale</td>\n",
       "      <td>2021</td>\n",
       "      <td>36953.750000</td>\n",
       "    </tr>\n",
       "    <tr>\n",
       "      <th>58</th>\n",
       "      <td>Abia</td>\n",
       "      <td>Wholesale</td>\n",
       "      <td>Sorghum (white) - Wholesale</td>\n",
       "      <td>2017</td>\n",
       "      <td>27385.000000</td>\n",
       "    </tr>\n",
       "    <tr>\n",
       "      <th>59</th>\n",
       "      <td>Abia</td>\n",
       "      <td>Wholesale</td>\n",
       "      <td>Sorghum (white) - Wholesale</td>\n",
       "      <td>2021</td>\n",
       "      <td>37558.875000</td>\n",
       "    </tr>\n",
       "    <tr>\n",
       "      <th>60</th>\n",
       "      <td>Abia</td>\n",
       "      <td>Wholesale</td>\n",
       "      <td>Yam - Wholesale</td>\n",
       "      <td>2017</td>\n",
       "      <td>45040.000000</td>\n",
       "    </tr>\n",
       "    <tr>\n",
       "      <th>61</th>\n",
       "      <td>Abia</td>\n",
       "      <td>Wholesale</td>\n",
       "      <td>Yam - Wholesale</td>\n",
       "      <td>2021</td>\n",
       "      <td>58882.500000</td>\n",
       "    </tr>\n",
       "  </tbody>\n",
       "</table>\n",
       "<p>62 rows × 5 columns</p>\n",
       "</div>"
      ],
      "text/plain": [
       "   state market_type                      produce  year         price\n",
       "0   Abia      Retail               Bread - Retail  2014    239.212500\n",
       "1   Abia      Retail               Bread - Retail  2015    247.521458\n",
       "2   Abia      Retail               Bread - Retail  2016    182.228000\n",
       "3   Abia      Retail               Bread - Retail  2017    150.250000\n",
       "4   Abia      Retail               Bread - Retail  2021    100.000000\n",
       "..   ...         ...                          ...   ...           ...\n",
       "57  Abia   Wholesale  Sorghum (brown) - Wholesale  2021  36953.750000\n",
       "58  Abia   Wholesale  Sorghum (white) - Wholesale  2017  27385.000000\n",
       "59  Abia   Wholesale  Sorghum (white) - Wholesale  2021  37558.875000\n",
       "60  Abia   Wholesale              Yam - Wholesale  2017  45040.000000\n",
       "61  Abia   Wholesale              Yam - Wholesale  2021  58882.500000\n",
       "\n",
       "[62 rows x 5 columns]"
      ]
     },
     "execution_count": 15,
     "metadata": {},
     "output_type": "execute_result"
    }
   ],
   "source": [
    "#filtering data based on state\n",
    "pvt_df[pvt_df['state'] == 'Abia']"
   ]
  },
  {
   "cell_type": "code",
   "execution_count": 16,
   "metadata": {},
   "outputs": [
    {
     "data": {
      "text/plain": [
       "<AxesSubplot:>"
      ]
     },
     "execution_count": 16,
     "metadata": {},
     "output_type": "execute_result"
    },
    {
     "data": {
      "image/png": "[encoded data removed]",
      "text/plain": [
       "<Figure size 432x288 with 1 Axes>"
      ]
     },
     "metadata": {
      "needs_background": "light"
     },
     "output_type": "display_data"
    }
   ],
   "source": [
    "#line chat based on the price per state\n",
    "df2[['state','price']].plot(kind='line')"
   ]
  },
  {
   "cell_type": "code",
   "execution_count": 27,
   "metadata": {},
   "outputs": [
    {
     "data": {
      "text/plain": [
       "Index(['country_id', 'country', 'state_id', 'state', 'town_id', 'town',\n",
       "       'produce_id', 'produce', 'currency_id', 'currency', 'market_type_id',\n",
       "       'market_type', 'measurement_id', 'quantity', 'month', 'year', 'price'],\n",
       "      dtype='object')"
      ]
     },
     "execution_count": 27,
     "metadata": {},
     "output_type": "execute_result"
    }
   ],
   "source": [
    "df.columns"
   ]
  },
  {
   "cell_type": "code",
   "execution_count": 29,
   "metadata": {},
   "outputs": [
    {
     "data": {
      "text/plain": [
       "<AxesSubplot:>"
      ]
     },
     "execution_count": 29,
     "metadata": {},
     "output_type": "execute_result"
    },
    {
     "data": {
      "image/png": "[encoded data removed]",
      "text/plain": [
       "<Figure size 432x288 with 1 Axes>"
      ]
     },
     "metadata": {
      "needs_background": "light"
     },
     "output_type": "display_data"
    }
   ],
   "source": [
    "#line chat based on the measurement of product per country\n",
    "df[['country','measurement_id']].plot(kind='line')"
   ]
  },
  {
   "cell_type": "code",
   "execution_count": 17,
   "metadata": {},
   "outputs": [],
   "source": [
    "#number of sales based on the type of market\n",
    "market_type = df.market_type.value_counts()"
   ]
  },
  {
   "cell_type": "code",
   "execution_count": 18,
   "metadata": {},
   "outputs": [
    {
     "data": {
      "image/png": "[encoded data removed]",
      "text/plain": [
       "<Figure size 648x432 with 1 Axes>"
      ]
     },
     "metadata": {
      "needs_background": "light"
     },
     "output_type": "display_data"
    }
   ],
   "source": [
    "#bar chart to show the sales based on the type of market\n",
    "market_type.plot(kind='bar', figsize=(9, 6))\n",
    "plt.title('Total sales based on the type of market')\n",
    "plt.xlabel('type of market')\n",
    "plt.ylabel('sales')\n",
    "plt.show()"
   ]
  },
  {
   "cell_type": "code",
   "execution_count": 19,
   "metadata": {},
   "outputs": [],
   "source": [
    "#most 3 purchased commodity based on country and quantity\n",
    "most_purchased = df.sort_values(['measurement_id', 'price'], ascending= False)[['produce','country','quantity','price']]"
   ]
  },
  {
   "cell_type": "code",
   "execution_count": 21,
   "metadata": {},
   "outputs": [],
   "source": [
    "# number of sales per year\n",
    "year_count = df.year.value_counts()"
   ]
  },
  {
   "cell_type": "code",
   "execution_count": 24,
   "metadata": {},
   "outputs": [
    {
     "data": {
      "image/png": "[encoded data removed]",
      "text/plain": [
       "<Figure size 648x432 with 1 Axes>"
      ]
     },
     "metadata": {
      "needs_background": "light"
     },
     "output_type": "display_data"
    }
   ],
   "source": [
    "#line graph to visualize the result\n",
    "year_count.plot(kind='line', figsize=(9, 6))\n",
    "plt.title('Total food sales over the years')\n",
    "plt.xlim(1950, 2030)\n",
    "plt.xlabel('year')\n",
    "plt.ylabel('total')\n",
    "plt.show()"
   ]
  },
  {
   "cell_type": "markdown",
   "metadata": {},
   "source": [
    "## Diagnosis"
   ]
  },
  {
   "cell_type": "markdown",
   "metadata": {},
   "source": [
    " from my anaalysis I figured out Rwanda had the most sales of commodity, millet was the most bought commodity and year 2020 was the highest rate of bought commodity."
   ]
  }
 ],
 "metadata": {
  "kernelspec": {
   "display_name": "Python 3 (ipykernel)",
   "language": "python",
   "name": "python3"
  },
  "language_info": {
   "codemirror_mode": {
    "name": "ipython",
    "version": 3
   },
   "file_extension": ".py",
   "mimetype": "text/x-python",
   "name": "python",
   "nbconvert_exporter": "python",
   "pygments_lexer": "ipython3",
   "version": "3.10.2"
  },
  "vscode": {
   "interpreter": {
    "hash": "76d7c06053c3456e5600312cec90888656fc0ed30c03d8425b9dac6e4fc8e014"
   }
  }
 },
 "nbformat": 4,
 "nbformat_minor": 4
}
